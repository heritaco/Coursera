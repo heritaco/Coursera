{
 "cells": [
  {
   "cell_type": "code",
   "execution_count": 12,
   "id": "23403fe5",
   "metadata": {},
   "outputs": [
    {
     "name": "stdout",
     "output_type": "stream",
     "text": [
      "| Curso                                                                                                                                               | Quién lo imparte                                   |\n",
      "|:----------------------------------------------------------------------------------------------------------------------------------------------------|:---------------------------------------------------|\n",
      "| [IBM RAG and Agentic AI Professional Certificate](https://www.coursera.org/professional-certificates/ibm-rag-and-agentic-ai)                        | IBM                                                |\n",
      "| [Advanced Statistics for Data Science](https://www.coursera.org/specializations/advanced-statistics-data-science)                                   | Johns Hopkins                                      |\n",
      "| [Introduction to Quantum Information](https://www.coursera.org/learn/introduction-to-quantum-information)                                           | Korea Advanced Institute of Science and Technology |\n",
      "| [Financial Markets](https://www.coursera.org/learn/financial-markets-global)                                                                        | Yale                                               |\n",
      "| [Reinforcement Learning in Finance](https://www.coursera.org/learn/reinforcement-learning-in-finance)                                               | New York University                                |\n",
      "| [Overview of Advanced Methods of Reinforcement Learning in Finance](https://www.coursera.org/learn/advanced-methods-reinforcement-learning-finance) | New York University                                |\n",
      "| [Advanced Machine Learning on Google Cloud](https://www.coursera.org/specializations/advanced-machine-learning-tensorflow-gcp)                      | Google Cloud                                       |\n",
      "| [Machine Learning and Reinforcement Learning in Finance](https://www.coursera.org/specializations/machine-learning-reinforcement-finance)           | NYU                                                |\n",
      "| [Bayesian Statistics](https://www.coursera.org/specializations/bayesian-statistics\\)                                                                | UC Santa Cruz                                      |\n",
      "| [Coding for Everyone: C and C++](https://www.coursera.org/specializations/coding-for-everyone)                                                      | UC Santa Cruz                                      |\n",
      "| [Mathematics for Machine Learning](https://www.coursera.org/specializations/mathematics-machine-learning)                                           | Imperial College London                            |\n",
      "| [TensorFlow 2 for Deep Learning](https://www.coursera.org/specializations/tensorflow2-deeplearning)                                                 | Imperial College London                            |\n",
      "| [Google Advanced Data Analytics Professional Certificate](https://www.coursera.org/professional-certificates/google-advanced-data-analytics)        | Google                                             |\n",
      "| [Finance & Quantitative Modeling for Analysts](https://www.coursera.org/specializations/finance-quantitative-modeling-analysts)                     | University of Penssylvania                         |\n",
      "| [Fundamentals of Quantitative Modeling](https://www.coursera.org/learn/wharton-quantitative-modeling)                                               | University of Pennsylvania                         |\n",
      "| [Financial Engineering and Risk Management](https://www.coursera.org/specializations/financialengineering)                                          | Columbia University                                |\n"
     ]
    }
   ],
   "source": [
    "import pandas as pd\n",
    "import re\n",
    "\n",
    "# Ruta al archivo de texto\n",
    "ruta_archivo = \"texto.txt\"\n",
    "\n",
    "# IBM RAG and Agentic AI Professional Certificate | Coursera – IBM\n",
    "# https://www.coursera.org/professional-certificates/ibm-rag-and-agentic-ai\n",
    "\n",
    "# Advanced Statistics for Data Science | Coursera – Johns Hopkins\n",
    "# https://www.coursera.org/specializations/advanced-statistics-data-science\n",
    "\n",
    "# Introduction to Quantum Information | Coursera – Korea Advanced Institute of Science and Technology\n",
    "# https://www.coursera.org/learn/introduction-to-quantum-information\n",
    "\n",
    "# ...\n",
    "\n",
    "# Financial Markets | Coursera – Yale\n",
    "# https://www.coursera.org/learn/financial-markets-global\n",
    "\n",
    "\n",
    "\n",
    "# Leer líneas, limpiarlas y quitar vacíos\n",
    "with open(ruta_archivo, \"r\", encoding=\"utf-8\") as f:\n",
    "    lineas = [line.strip() for line in f if line.strip() != \"\"]\n",
    "\n",
    "# Agrupar en bloques de 2 líneas (nombre + link)\n",
    "cursos = []\n",
    "for i in range(0, len(lineas), 2):\n",
    "    # Primera línea: \"Nombre del curso | Coursera – Institución\"\n",
    "    parte_superior = lineas[i]\n",
    "    link = lineas[i + 1]\n",
    "\n",
    "    # Usar regex para dividir correctamente\n",
    "    match = re.split(r\" \\| Coursera\\s*[-–—]{1,2}\\s*\", parte_superior, maxsplit=1)\n",
    "    if len(match) == 2:\n",
    "        nombre_curso, institucion = match\n",
    "    else:\n",
    "        # Si no se puede dividir, poner todo como nombre y dejar institución vacía\n",
    "        nombre_curso = parte_superior\n",
    "        institucion = \"\"\n",
    "\n",
    "    cursos.append({\n",
    "        \"Curso\": f\"[{nombre_curso}]({link})\",\n",
    "        \"Quién lo imparte\": institucion\n",
    "    })\n",
    "\n",
    "# Crear DataFrame\n",
    "df = pd.DataFrame(cursos)\n",
    "\n",
    "# Mostrar DataFrame (opcional)\n",
    "print(df.to_markdown(index=False))\n"
   ]
  },
  {
   "cell_type": "code",
   "execution_count": 13,
   "id": "dc190e97",
   "metadata": {},
   "outputs": [],
   "source": [
    "df.to_markdown(\"cursos_coursera.md\", index=False)"
   ]
  }
 ],
 "metadata": {
  "kernelspec": {
   "display_name": "u",
   "language": "python",
   "name": "python3"
  },
  "language_info": {
   "codemirror_mode": {
    "name": "ipython",
    "version": 3
   },
   "file_extension": ".py",
   "mimetype": "text/x-python",
   "name": "python",
   "nbconvert_exporter": "python",
   "pygments_lexer": "ipython3",
   "version": "3.11.13"
  }
 },
 "nbformat": 4,
 "nbformat_minor": 5
}
