{
 "cells": [
  {
   "cell_type": "markdown",
   "id": "2c7498fc",
   "metadata": {},
   "source": [
    "Glossary:\n",
    "\n",
    "* **Arbitrage**: Self-financing strategy with $V_0\\le0$, $V_T\\ge0$ a.s., and $\\mathbb P[V_T>0]>0$.\n",
    "* **Admissible strategy**: Trading rule that avoids pathologies like unbounded loss from zero wealth.\n",
    "* **Annuity (fixed-cash-flow)**: Known payments at fixed dates $(c_1,\\dots,c_T)$, state-independent.\n",
    "* **Ask / Offer**: Lowest quoted sell price.\n",
    "* **Basis**: Futures price minus spot price.\n",
    "* **Bid**: Highest quoted buy price.\n",
    "* **Borrow**: Receive $L$ now, repay $L(1+r)$ later. Cash flows $(+L,-L(1+r))$.\n",
    "* **Cash-and-carry**: Long spot, short futures to lock in carry; reverse is opposite.\n",
    "* **Claim**: Any contract with defined payoff stream $C_t$.\n",
    "* **Coupon bond**: Fixed coupons before maturity plus face value at maturity.\n",
    "* **Derivative**: Payoff depends on underlying state variable(s) $S_T, r_T,\\dots$.\n",
    "* **Discount factor**: $D(0,T)=\\frac{1}{(1+r)^T}$ or $e^{-rT}$. Present value $=$ payoff $\\times D$.\n",
    "* **Equivalent martingale measure (EMM)**: Measure $Q$ under which discounted asset prices are martingales.\n",
    "* **Forward**: OTC agreement with payoff $S_T-K$ at $T$.\n",
    "* **Futures**: Exchange-traded forward with daily margining.\n",
    "* **Free-lunch**: Colloquial arbitrage. Rigorous: NFLVR excludes asymptotic arbitrage sequences.\n",
    "* **Hedge**: Take offsetting positions to reduce risk of a target payoff.\n",
    "* **Law of One Price (LOOP)**: Identical cash-flows must have identical prices.\n",
    "* **Lend**: Pay $L$ now, receive $L(1+r)$ later. Cash flows $(-L,+L(1+r))$.\n",
    "* **Long**: Positive position. Benefit if price rises.\n",
    "* **Maturity**: Final date $T$ of a contract.\n",
    "* **Maturity payoff**: Cash flow at $T$. Examples: bond $=A$; call $=\\max(S_T-K,0)$.\n",
    "* **No-arbitrage (NA)**: Market admits no arbitrage; implies pricing by discount factors or state prices.\n",
    "* **NFLVR**: No Free Lunch with Vanishing Risk. Technical NA used in modern theory.\n",
    "* **Option (call/put)**: Right to buy/sell at strike $K$ by date $T$.\n",
    "* **Pins down**: Uniquely determines a value. Example: NA pins down $p=A/(1+r)$.\n",
    "* **Present value (PV)**: $PV=\\mathbb E^Q\\!\\big[\\text{payoff}\\times D(0,T)\\big]$ or $A D(0,T)$ for fixed $A$.\n",
    "* **Pricing kernel / SDF**: $m_T$ with price $p=\\mathbb E[m_T\\,\\text{payoff}]$; $m_T>0$ under NA.\n",
    "* **Replication**: Build a portfolio matching a payoff in all states. By LOOP price must match.\n",
    "* **Risk-free rate $r$**: Return on default-free lending over a period.\n",
    "* **Risk-neutral pricing**: $p=\\mathbb E^Q[D(0,T)\\,\\text{payoff}]$ under an EMM $Q$.\n",
    "* **Self-financing**: Portfolio changes funded only by trading gains, no external cash injection.\n",
    "* **Short**: Negative position. You sell first, must deliver later.\n",
    "* **Spot price**: Price for immediate delivery.\n",
    "* **State price**: Arrow–Debreu price for one unit paid in a specific state; nonnegative under NA.\n",
    "* **Static vs dynamic hedge**: Fixed weights vs time-varying rebalancing.\n",
    "* **Two-leg portfolio**: Strategy built from two positions (e.g., long claim + borrow PV).\n",
    "* **Weak NA**: If all future cash flows are $\\ge 0$, price cannot be $<0$.\n",
    "* **Strong NA**: If cash flows are $\\ge0$ and some $>0$, price must be $>0$.\n",
    "* **Zero-coupon bond**: Pays a single amount $A$ at $T$; price $=A D(0,T)$.\n",
    "\n",
    "Composite terms used earlier:\n",
    "\n",
    "* **Buy claim and borrow**: Long the claim, borrow $A/(1+r)$. Net at $T$: $A-A=0$. Upfront gain $=A/(1+r)-p$ if $p< A/(1+r)$.\n",
    "* **Short claim and lend**: Short the claim, lend $A/(1+r)$. Net at $T$: $A-A=0$. Upfront gain $=p- A/(1+r)$ if $p> A/(1+r)$.\n",
    "\n",
    "Minimal equations:\n",
    "\n",
    "* **Fixed cash flow pricing under NA**: $p=\\sum_{k=1}^T D(0,t_k)\\,c_k=\\sum_{k=1}^T \\pi_k\\,c_k$ with $\\pi_k\\ge0$.\n",
    "* **Arbitrage test**: $\\exists\\,\\theta:\\ V_0(\\theta)\\le0,\\ V_T(\\theta)\\ge0\\ \\text{a.s.},\\ \\mathbb P[V_T(\\theta)>0]>0 \\Rightarrow$ violation of NA.\n"
   ]
  },
  {
   "cell_type": "markdown",
   "id": "3ce59550",
   "metadata": {},
   "source": [
    "Yes. You can say “open a short,” but the standard verb is **sell short**.\n",
    "\n",
    "Canonical terms:\n",
    "\n",
    "- Long: **buy** to open. **sell** to close.\n",
    "- Short (stock, ETF): **sell short** to open. **buy to cover** (or just **cover**) to close.\n",
    "- Options order language: **buy to open**, **sell to close**; **sell to open**, **buy to close**.\n",
    "- Futures: **sell** a contract to open a short. **buy** the contract to close. No borrow."
   ]
  }
 ],
 "metadata": {
  "language_info": {
   "name": "python"
  }
 },
 "nbformat": 4,
 "nbformat_minor": 5
}
